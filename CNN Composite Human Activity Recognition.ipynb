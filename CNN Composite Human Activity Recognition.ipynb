{
 "cells": [
  {
   "cell_type": "code",
   "execution_count": 1,
   "metadata": {},
   "outputs": [
    {
     "name": "stderr",
     "output_type": "stream",
     "text": [
      "Using TensorFlow backend.\n"
     ]
    }
   ],
   "source": [
    "import tensorflow as tf\n",
    "import keras\n",
    "from keras.models import Sequential\n",
    "from keras.layers import Conv1D,MaxPooling1D,AveragePooling1D\n",
    "from keras.layers import Dense, Dropout, Activation, Flatten, Embedding, LSTM\n",
    "from keras import optimizers\n",
    "from keras.utils import np_utils\n",
    "from sklearn.preprocessing import LabelEncoder\n",
    "import pandas as pd\n",
    "import numpy as np\n",
    "import matplotlib.pyplot as plt\n",
    "import seaborn as sns\n",
    "import os\n",
    "import glob"
   ]
  },
  {
   "cell_type": "code",
   "execution_count": 2,
   "metadata": {
    "collapsed": true
   },
   "outputs": [],
   "source": [
    "# Read csv files and append them to list\n",
    "path = 'D:/Datasets/IOTSensor/ActivityRecognition/'\n",
    "csv_files = glob.glob(path + \"/*.csv\")\n",
    "big_frame = pd.DataFrame()\n",
    "csv_list = []\n",
    "for file in csv_files:\n",
    "    df = pd.read_csv(file)\n",
    "    csv_list.append(df)"
   ]
  },
  {
   "cell_type": "code",
   "execution_count": 3,
   "metadata": {},
   "outputs": [
    {
     "name": "stdout",
     "output_type": "stream",
     "text": [
      "Number of columns in the dataset: 5\n",
      "Number of rows in the dataset: 1926897\n",
      "\n"
     ]
    }
   ],
   "source": [
    "# Pass the dataset to dataframe\n",
    "df = pd.concat(csv_list, axis=0)\n",
    "print('Number of columns in the dataset: %i' % (df.shape[1]))\n",
    "print('Number of rows in the dataset: %i\\n' % (df.shape[0]))"
   ]
  },
  {
   "cell_type": "code",
   "execution_count": 4,
   "metadata": {},
   "outputs": [
    {
     "name": "stdout",
     "output_type": "stream",
     "text": [
      "(1923176, 5)\n",
      "[1.0, 2.0, 3.0, 4.0, 5.0, 6.0, 7.0]\n"
     ]
    }
   ],
   "source": [
    "# Remove null values and data labeled 0\n",
    "df=df.dropna()\n",
    "df = df[df.Label != 0]\n",
    "#Dataset shape\n",
    "print(df.shape)\n",
    "#print list of label values\n",
    "print(df['Label'].unique().tolist())"
   ]
  },
  {
   "cell_type": "code",
   "execution_count": 5,
   "metadata": {},
   "outputs": [
    {
     "data": {
      "text/html": [
       "<div>\n",
       "<style>\n",
       "    .dataframe thead tr:only-child th {\n",
       "        text-align: right;\n",
       "    }\n",
       "\n",
       "    .dataframe thead th {\n",
       "        text-align: left;\n",
       "    }\n",
       "\n",
       "    .dataframe tbody tr th {\n",
       "        vertical-align: top;\n",
       "    }\n",
       "</style>\n",
       "<table border=\"1\" class=\"dataframe\">\n",
       "  <thead>\n",
       "    <tr style=\"text-align: right;\">\n",
       "      <th></th>\n",
       "      <th>Unnamed: 0</th>\n",
       "      <th>x</th>\n",
       "      <th>y</th>\n",
       "      <th>z</th>\n",
       "      <th>Label</th>\n",
       "    </tr>\n",
       "  </thead>\n",
       "  <tbody>\n",
       "    <tr>\n",
       "      <th>0</th>\n",
       "      <td>0.0</td>\n",
       "      <td>1502.0</td>\n",
       "      <td>2215.0</td>\n",
       "      <td>2153.0</td>\n",
       "      <td>1.0</td>\n",
       "    </tr>\n",
       "    <tr>\n",
       "      <th>1</th>\n",
       "      <td>1.0</td>\n",
       "      <td>1667.0</td>\n",
       "      <td>2072.0</td>\n",
       "      <td>2047.0</td>\n",
       "      <td>1.0</td>\n",
       "    </tr>\n",
       "    <tr>\n",
       "      <th>2</th>\n",
       "      <td>2.0</td>\n",
       "      <td>1611.0</td>\n",
       "      <td>1957.0</td>\n",
       "      <td>1906.0</td>\n",
       "      <td>1.0</td>\n",
       "    </tr>\n",
       "    <tr>\n",
       "      <th>3</th>\n",
       "      <td>3.0</td>\n",
       "      <td>1601.0</td>\n",
       "      <td>1939.0</td>\n",
       "      <td>1831.0</td>\n",
       "      <td>1.0</td>\n",
       "    </tr>\n",
       "    <tr>\n",
       "      <th>4</th>\n",
       "      <td>4.0</td>\n",
       "      <td>1643.0</td>\n",
       "      <td>1965.0</td>\n",
       "      <td>1879.0</td>\n",
       "      <td>1.0</td>\n",
       "    </tr>\n",
       "  </tbody>\n",
       "</table>\n",
       "</div>"
      ],
      "text/plain": [
       "   Unnamed: 0       x       y       z  Label\n",
       "0         0.0  1502.0  2215.0  2153.0    1.0\n",
       "1         1.0  1667.0  2072.0  2047.0    1.0\n",
       "2         2.0  1611.0  1957.0  1906.0    1.0\n",
       "3         3.0  1601.0  1939.0  1831.0    1.0\n",
       "4         4.0  1643.0  1965.0  1879.0    1.0"
      ]
     },
     "execution_count": 5,
     "metadata": {},
     "output_type": "execute_result"
    }
   ],
   "source": [
    "df.head()"
   ]
  },
  {
   "cell_type": "code",
   "execution_count": null,
   "metadata": {
    "collapsed": true
   },
   "outputs": [],
   "source": [
    "\n"
   ]
  },
  {
   "cell_type": "code",
   "execution_count": 6,
   "metadata": {
    "collapsed": true
   },
   "outputs": [],
   "source": [
    "#Classify the data into composite and non-composite\n",
    "#Create another column bLabel\n",
    "df['bLabel'] = df['Label'].apply(lambda x: 1 if x == 2 else 1 if x == 5 else 1 if x == 6 else 1 if x == 7 else 0)"
   ]
  },
  {
   "cell_type": "code",
   "execution_count": 7,
   "metadata": {},
   "outputs": [
    {
     "data": {
      "image/png": "[encoded data removed]",
      "text/plain": [
       "<matplotlib.figure.Figure at 0xfcdaac8>"
      ]
     },
     "metadata": {},
     "output_type": "display_data"
    }
   ],
   "source": [
    "# Plot the distribution of data samples across the labels\n",
    "sns.set() \n",
    "plt.style.use('ggplot')\n",
    "labels =[1,2,3,4,5,6,7]\n",
    "Labels = ['Working at Computer','Standing Up Walking and Going updownstairs',\n",
    "          'Standing', 'Walking','Going UpDown Stairs','Walking and Talking with someone','Talking while Standing']\n",
    "df['Label'].value_counts().plot(kind='bar', title='Data samples by Activity type')\n",
    "plt.show()"
   ]
  },
  {
   "cell_type": "code",
   "execution_count": null,
   "metadata": {
    "collapsed": true
   },
   "outputs": [],
   "source": []
  },
  {
   "cell_type": "code",
   "execution_count": 8,
   "metadata": {
    "collapsed": true
   },
   "outputs": [],
   "source": [
    "#Normalize the data\n",
    "df['x'] = df['x'] / df['x'].max()\n",
    "df['y'] = df['y'] / df['y'].max()\n",
    "df['z'] = df['z'] / df['z'].max()\n",
    "\n",
    "# Round numbers to 3 decimals\n",
    "df  = df.round({'x': 3, 'y':3 , 'z': 3})"
   ]
  },
  {
   "cell_type": "code",
   "execution_count": 9,
   "metadata": {
    "collapsed": true
   },
   "outputs": [],
   "source": [
    "# Split the dataset\n",
    "from sklearn.model_selection import train_test_split\n",
    "train, test = train_test_split(df,test_size=0.2, random_state=42)\n",
    "X_train = train[['x','y','z']]\n",
    "X_test  = test[['x','y','z']]\n",
    "#Y_train = train['Label']\n",
    "#Y_test  = test['Label']\n",
    "Y_train = train['bLabel']\n",
    "Y_test  = test['bLabel']"
   ]
  },
  {
   "cell_type": "code",
   "execution_count": 10,
   "metadata": {
    "collapsed": true
   },
   "outputs": [],
   "source": [
    "#Reshape the training and test data\n",
    "#x = np.array(X_train).reshape((X_train.shape[0],3,1))\n",
    "x_train = np.array(X_train).reshape((X_train.shape[0],1,3))\n",
    "x_test  = np.array(X_test).reshape((X_test.shape[0],1,3))"
   ]
  },
  {
   "cell_type": "code",
   "execution_count": 11,
   "metadata": {},
   "outputs": [
    {
     "data": {
      "text/plain": [
       "(1538540,)"
      ]
     },
     "execution_count": 11,
     "metadata": {},
     "output_type": "execute_result"
    }
   ],
   "source": [
    "#TRANSFORM labels into matrix\n",
    "#encoder = LabelEncoder()\n",
    "#encoder.fit(Y_train)\n",
    "#Encoded_train = encoder.transform(Y_train)\n",
    "\n",
    "#y_train = np_utils.to_categorical(Y_train)\n",
    "#y_test = np_utils.to_categorical(Y_test)\n",
    "\n",
    "y_train = Y_train\n",
    "y_test =  Y_test\n",
    "y_train.shape"
   ]
  },
  {
   "cell_type": "code",
   "execution_count": 12,
   "metadata": {
    "collapsed": true
   },
   "outputs": [],
   "source": [
    "#Remove the 1st column of matrix, it's redundant, coming from to_categorical\n",
    "#y_train= y_train[0:,1:]\n",
    "#y_test = y_test[0:,1:]\n",
    "#y_train.shape"
   ]
  },
  {
   "cell_type": "code",
   "execution_count": 13,
   "metadata": {
    "scrolled": false
   },
   "outputs": [
    {
     "name": "stdout",
     "output_type": "stream",
     "text": [
      "_________________________________________________________________\n",
      "Layer (type)                 Output Shape              Param #   \n",
      "=================================================================\n",
      "conv1d_1 (Conv1D)            (None, 1, 128)            512       \n",
      "_________________________________________________________________\n",
      "conv1d_2 (Conv1D)            (None, 1, 128)            16512     \n",
      "_________________________________________________________________\n",
      "max_pooling1d_1 (MaxPooling1 (None, 1, 128)            0         \n",
      "_________________________________________________________________\n",
      "conv1d_3 (Conv1D)            (None, 1, 128)            16512     \n",
      "_________________________________________________________________\n",
      "conv1d_4 (Conv1D)            (None, 1, 128)            16512     \n",
      "_________________________________________________________________\n",
      "max_pooling1d_2 (MaxPooling1 (None, 1, 128)            0         \n",
      "_________________________________________________________________\n",
      "dropout_1 (Dropout)          (None, 1, 128)            0         \n",
      "_________________________________________________________________\n",
      "flatten_1 (Flatten)          (None, 128)               0         \n",
      "_________________________________________________________________\n",
      "dense_1 (Dense)              (None, 100)               12900     \n",
      "_________________________________________________________________\n",
      "dense_2 (Dense)              (None, 1)                 101       \n",
      "=================================================================\n",
      "Total params: 63,049\n",
      "Trainable params: 63,049\n",
      "Non-trainable params: 0\n",
      "_________________________________________________________________\n",
      "None\n"
     ]
    }
   ],
   "source": [
    "random_seed = 611\n",
    "np.random.seed(random_seed)\n",
    "numOfRows = X_train.shape[0]\n",
    "numOfColumns = X_train.shape[1]\n",
    "inputShape=(1,3)\n",
    "filterNo = 128\n",
    "kernelSize = 1\n",
    "poolingSize = 1\n",
    "Epochs = 10\n",
    "batchSize = 200\n",
    "#noClasses = y_train.shape[1]\n",
    "noClasses = 1\n",
    "dropOutRatio = 0.2\n",
    "\n",
    "model = Sequential()\n",
    "model.add(Conv1D(filters=filterNo, kernel_size=kernelSize, activation='relu', input_shape=inputShape))\n",
    "model.add(Conv1D(filters=filterNo, kernel_size=kernelSize, activation='relu'))\n",
    "model.add(MaxPooling1D(pool_size=poolingSize))\n",
    "model.add(Conv1D(filters=filterNo, kernel_size=kernelSize, activation='relu'))\n",
    "model.add(Conv1D(filters=filterNo, kernel_size=kernelSize, activation='relu'))\n",
    "model.add(MaxPooling1D(pool_size=poolingSize))\n",
    "#model.add(AveragePooling1D(pool_size=poolingSize))\n",
    "\n",
    "model.add(Dropout(0.5))\n",
    "model.add(Flatten())\n",
    "model.add(Dense(100, activation='relu'))\n",
    "#model.add(Dense(noClasses, activation='softmax'))\n",
    "model.add(Dense(noClasses, activation='sigmoid'))\n",
    "\n",
    "#Compile the model and print its summary\n",
    "adam = optimizers.Adam(lr = 0.001, decay=1e-6)\n",
    "model.compile(loss='binary_crossentropy', optimizer=adam, metrics=['accuracy'])\n",
    "print(model.summary())"
   ]
  },
  {
   "cell_type": "code",
   "execution_count": 14,
   "metadata": {},
   "outputs": [
    {
     "name": "stdout",
     "output_type": "stream",
     "text": [
      "model1 saved\n"
     ]
    }
   ],
   "source": [
    "from keras.models import model_from_json\n",
    "model_json = model.to_json()\n",
    "with open(\"model1.json\", \"w\") as json_file:\n",
    "    json_file.write(model_json)\n",
    "# serialize weights to HDF5\n",
    "model.save_weights(\"model1.h5\")\n",
    "print(\"model1 saved\")"
   ]
  },
  {
   "cell_type": "code",
   "execution_count": 15,
   "metadata": {},
   "outputs": [
    {
     "name": "stdout",
     "output_type": "stream",
     "text": [
      "WARNING:tensorflow:Variable *= will be deprecated. Use variable.assign_mul if you want assignment to the variable value or 'x = x * y' if you want a new python Tensor object.\n",
      "Epoch 1/10\n",
      " - 255s - loss: 0.5747 - acc: 0.6938\n",
      "Epoch 2/10\n",
      " - 255s - loss: 0.4799 - acc: 0.7755\n",
      "Epoch 3/10\n",
      " - 298s - loss: 0.4583 - acc: 0.7900\n",
      "Epoch 4/10\n",
      " - 268s - loss: 0.4483 - acc: 0.7968\n",
      "Epoch 5/10\n",
      " - 294s - loss: 0.4436 - acc: 0.7994\n",
      "Epoch 6/10\n",
      " - 285s - loss: 0.4383 - acc: 0.8028\n",
      "Epoch 7/10\n",
      " - 297s - loss: 0.4324 - acc: 0.8068\n",
      "Epoch 8/10\n",
      " - 293s - loss: 0.4309 - acc: 0.8076\n",
      "Epoch 9/10\n",
      " - 298s - loss: 0.4274 - acc: 0.8093\n",
      "Epoch 10/10\n",
      " - 297s - loss: 0.4268 - acc: 0.8097\n"
     ]
    }
   ],
   "source": [
    "# Fit model on training data\n",
    "model_train = model.fit(x_train,y_train, epochs=Epochs, batch_size=batchSize, verbose=2)"
   ]
  },
  {
   "cell_type": "code",
   "execution_count": 16,
   "metadata": {},
   "outputs": [
    {
     "name": "stdout",
     "output_type": "stream",
     "text": [
      "384636/384636 [==============================] - 23s 60us/step\n",
      "\n",
      " Test Accuracy: 0.81\n",
      "\n",
      " Test Loss: 0.42\n"
     ]
    }
   ],
   "source": [
    "#Evaluate model\n",
    "score = model.evaluate(x_test, y_test, batch_size=batchSize, verbose=1)\n",
    "print(\"\\n Test Accuracy: %0.2f\" % score[1])\n",
    "print(\"\\n Test Loss: %0.2f\" % score[0])"
   ]
  },
  {
   "cell_type": "code",
   "execution_count": 17,
   "metadata": {},
   "outputs": [
    {
     "data": {
      "image/png": "[encoded data removed]",
      "text/plain": [
       "<matplotlib.figure.Figure at 0xfcb76a0>"
      ]
     },
     "metadata": {},
     "output_type": "display_data"
    }
   ],
   "source": [
    "# summarize history for accuracy and loss\n",
    "plt.figure(figsize=(6, 4))\n",
    "plt.plot(model_train.history['acc'], \"g-\", label=\"Training Accuracy\")\n",
    "#plt.plot(model_train.history['val_acc'], \"g--\", label=\" Validation Accuracy\")\n",
    "plt.plot(model_train.history['loss'], \"r-\", label=\"Training Loss\")\n",
    "#plt.plot(model_train.history['val_loss'], \"r--\", label=\"Validation Loss\")\n",
    "plt.title('Loss and Accuracy Plot')\n",
    "plt.ylabel('Accuracy and Loss')\n",
    "plt.xlabel('Epoch')\n",
    "plt.ylim(0)\n",
    "plt.legend()\n",
    "plt.show()"
   ]
  },
  {
   "cell_type": "code",
   "execution_count": 18,
   "metadata": {
    "collapsed": true
   },
   "outputs": [],
   "source": [
    "#CHANGE TRAINING TO REFLECT MOVEMENT"
   ]
  },
  {
   "cell_type": "code",
   "execution_count": 19,
   "metadata": {
    "collapsed": true
   },
   "outputs": [],
   "source": [
    "predictions = model.predict(x_test)"
   ]
  },
  {
   "cell_type": "code",
   "execution_count": 65,
   "metadata": {},
   "outputs": [],
   "source": [
    "from sklearn.metrics import classification_report, confusion_matrix\n",
    "pred_list = []; actual_list = [];\n",
    "for i in predictions:\n",
    "     pred_list.append(np.round(i)) \n",
    "for i in y_test:\n",
    "     actual_list.append(i)\n",
    "        \n",
    "matrix = confusion_matrix(actual_list, pred_list)"
   ]
  },
  {
   "cell_type": "code",
   "execution_count": 73,
   "metadata": {},
   "outputs": [
    {
     "data": {
      "image/png": "[encoded data removed]",
      "text/plain": [
       "<matplotlib.figure.Figure at 0x143eb7b8>"
      ]
     },
     "metadata": {},
     "output_type": "display_data"
    }
   ],
   "source": [
    "import seaborn as sns\n",
    "plt.figure(figsize=(5, 5))\n",
    "sns.heatmap(matrix, square=True, annot=True, fmt='d', cbar=False)\n",
    "plt.xlabel('Actual Emotion')\n",
    "plt.ylabel('Predicted Emotion');\n",
    "plt.show()"
   ]
  },
  {
   "cell_type": "code",
   "execution_count": null,
   "metadata": {
    "collapsed": true
   },
   "outputs": [],
   "source": []
  }
 ],
 "metadata": {
  "kernelspec": {
   "display_name": "Python 3",
   "language": "python",
   "name": "python3"
  },
  "language_info": {
   "codemirror_mode": {
    "name": "ipython",
    "version": 3
   },
   "file_extension": ".py",
   "mimetype": "text/x-python",
   "name": "python",
   "nbconvert_exporter": "python",
   "pygments_lexer": "ipython3",
   "version": "3.6.3"
  }
 },
 "nbformat": 4,
 "nbformat_minor": 2
}
